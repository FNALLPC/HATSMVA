{
 "cells": [
  {
   "cell_type": "code",
   "execution_count": 2,
   "metadata": {
    "collapsed": true
   },
   "outputs": [],
   "source": [
    "import os\n",
    "#os.environ['THEANO_FLAGS'] = 'optimizer=None'\n",
    "from sklearn.preprocessing import LabelEncoder\n",
    "from sklearn.model_selection import train_test_split\n",
    "from sklearn.model_selection import cross_val_score\n",
    "from sklearn.model_selection import StratifiedKFold\n",
    "from sklearn.preprocessing import StandardScaler\n",
    "from sklearn.pipeline import Pipeline\n",
    "from keras.models import Sequential, Model\n",
    "from keras.optimizers import SGD\n",
    "from keras.layers import Input, Activation, Dense, Convolution2D, MaxPooling2D, Dropout, Flatten\n",
    "from keras.utils import np_utils\n",
    "from keras.wrappers.scikit_learn import KerasClassifier\n",
    "from keras.callbacks import EarlyStopping\n",
    "import numpy as np\n",
    "import pandas as pd\n",
    "import sys\n",
    "import glob\n",
    "import matplotlib.pyplot as plt\n",
    "# fix random seed for reproducibility\n",
    "seed = 7\n",
    "np.random.seed(seed)"
   ]
  },
  {
   "cell_type": "code",
   "execution_count": 3,
   "metadata": {
    "collapsed": true
   },
   "outputs": [],
   "source": [
    "from root_numpy import root2array, tree2array\n",
    "from root_numpy.testdata import get_filepath\n",
    "import h5py"
   ]
  },
  {
   "cell_type": "code",
   "execution_count": 43,
   "metadata": {
    "collapsed": false
   },
   "outputs": [
    {
     "name": "stdout",
     "output_type": "stream",
     "text": [
      "      f_massjj  f_deltajj  isSignal\n",
      "0  1300.426880   5.128572       1.0\n",
      "1   437.221863   3.278692       1.0\n",
      "3  1021.744080   5.989169       1.0\n",
      "4  1101.381958   5.170628       1.0\n",
      "7   498.717194   4.895020       1.0\n",
      "      f_massjj  f_deltajj  isSignal\n",
      "4   121.394302   0.235953       0.0\n",
      "8   127.803024   2.774860       0.0\n",
      "12   76.221428   0.730752       0.0\n",
      "15   95.511597   1.546654       0.0\n",
      "18   26.986721   0.283680       0.0\n"
     ]
    }
   ],
   "source": [
    "treename = 'HZZ4LeptonsAnalysisReduced'\n",
    "VARS = ['f_massjj','f_deltajj']\n",
    "filename = {}\n",
    "h5file = {}\n",
    "params = {}\n",
    "df = {}\n",
    "\n",
    "filename['VV'] = '../data/ntuple_4mu_VV.h5'\n",
    "filename['gg'] = '../data/ntuple_4mu_gg.h5'\n",
    "\n",
    "h5file['VV'] = h5py.File(filename['VV'], 'r') # open read-only\n",
    "params['VV'] = h5file['VV'][treename][()]\n",
    "h5file['gg'] = h5py.File(filename['gg'], 'r') # open read-only\n",
    "params['gg'] = h5file['gg'][treename][()]\n",
    "\n",
    "df['VV'] = pd.DataFrame(params['VV'],columns=VARS)\n",
    "df['gg'] = pd.DataFrame(params['gg'],columns=VARS)\n",
    "\n",
    "df['VV']= df['VV'][(df['VV'].f_massjj > 0) & (df['VV'].f_deltajj > 0)] # cut out undefined variables\n",
    "df['gg']= df['gg'][(df['gg'].f_massjj > 0) & (df['gg'].f_deltajj > 0)] # cut out undefined variables\n",
    "\n",
    "df['VV']['isSignal'] = np.ones(len(df['VV'])) # add isSignal variable\n",
    "df['gg']['isSignal'] = np.zeros(len(df['gg'])) # add isSignal variable\n",
    "\n",
    "print df['VV'].iloc[:5] # print first 5 entries\n",
    "print df['gg'].iloc[:5] # print first 5 entries"
   ]
  },
  {
   "cell_type": "code",
   "execution_count": 23,
   "metadata": {
    "collapsed": false
   },
   "outputs": [
    {
     "data": {
      "text/plain": [
       "<matplotlib.legend.Legend at 0x1183f4c50>"
      ]
     },
     "execution_count": 23,
     "metadata": {},
     "output_type": "execute_result"
    },
    {
     "data": {
      "image/png": "[encoded data removed]",
      "text/plain": [
       "<matplotlib.figure.Figure at 0x1020d2390>"
      ]
     },
     "metadata": {},
     "output_type": "display_data"
    },
    {
     "data": {
      "image/png": "[encoded data removed]",
      "text/plain": [
       "<matplotlib.figure.Figure at 0x116580a10>"
      ]
     },
     "metadata": {},
     "output_type": "display_data"
    }
   ],
   "source": [
    "%matplotlib inline\n",
    "plt.figure()\n",
    "plt.xlabel(VARS[0])\n",
    "bins = np.linspace(0, 2000, 70)\n",
    "df['VV'][VARS[0]].plot.hist(bins, alpha=0.5, label='VV',normed=True)\n",
    "df['gg'][VARS[0]].plot.hist(bins, alpha=0.5, label='gg',normed=True)\n",
    "plt.legend(loc='upper right')\n",
    "plt.figure()\n",
    "plt.xlabel(VARS[1])\n",
    "bins = np.linspace(0, 10, 70)\n",
    "df['VV'][VARS[1]].plot.hist(bins, alpha=0.5, label='VV',normed=True)\n",
    "df['gg'][VARS[1]].plot.hist(bins, alpha=0.5, label='gg',normed=True)\n",
    "plt.legend(loc='upper right')"
   ]
  },
  {
   "cell_type": "code",
   "execution_count": 48,
   "metadata": {
    "collapsed": false
   },
   "outputs": [
    {
     "name": "stderr",
     "output_type": "stream",
     "text": [
      "/Library/Python/2.7/site-packages/ipykernel/__main__.py:6: UserWarning: Update your `Dense` call to the Keras 2 API: `Dense(20, activation=\"relu\", kernel_initializer=\"normal\")`\n",
      "/Library/Python/2.7/site-packages/ipykernel/__main__.py:8: UserWarning: Update your `Dense` call to the Keras 2 API: `Dense(20, activation=\"relu\", kernel_initializer=\"normal\")`\n"
     ]
    },
    {
     "name": "stdout",
     "output_type": "stream",
     "text": [
      "_________________________________________________________________\n",
      "Layer (type)                 Output Shape              Param #   \n",
      "=================================================================\n",
      "input_8 (InputLayer)         (None, 2)                 0         \n",
      "_________________________________________________________________\n",
      "dense_19 (Dense)             (None, 20)                60        \n",
      "_________________________________________________________________\n",
      "dropout_5 (Dropout)          (None, 20)                0         \n",
      "_________________________________________________________________\n",
      "dense_20 (Dense)             (None, 20)                420       \n",
      "_________________________________________________________________\n",
      "dropout_6 (Dropout)          (None, 20)                0         \n",
      "_________________________________________________________________\n",
      "dense_21 (Dense)             (None, 1)                 21        \n",
      "=================================================================\n",
      "Total params: 501\n",
      "Trainable params: 501\n",
      "Non-trainable params: 0\n",
      "_________________________________________________________________\n"
     ]
    },
    {
     "name": "stderr",
     "output_type": "stream",
     "text": [
      "/Library/Python/2.7/site-packages/ipykernel/__main__.py:10: UserWarning: Update your `Dense` call to the Keras 2 API: `Dense(1, activation=\"sigmoid\", kernel_initializer=\"normal\")`\n",
      "/Library/Python/2.7/site-packages/ipykernel/__main__.py:13: UserWarning: Update your `Model` call to the Keras 2 API: `Model(outputs=Tensor(\"de..., inputs=Tensor(\"in...)`\n"
     ]
    }
   ],
   "source": [
    "# baseline model\n",
    "NDIM = len(VARS)\n",
    "def create_baseline():\n",
    "    # This returns a tensor\n",
    "    inputs = Input(shape=(NDIM,))    \n",
    "    x = Dense(20, init='normal', activation='relu')(inputs)\n",
    "    x = Dropout(0.20)(x)\n",
    "    x = Dense(20, init='normal', activation='relu')(x)\n",
    "    x = Dropout(0.20)(x)\n",
    "    predictions = Dense(1, init='normal', activation='sigmoid')(x)\n",
    "    # This creates a model that includes\n",
    "    # the input layer and two dense layers (one output)\n",
    "    model = Model(input=inputs, output=predictions)\n",
    "    model.compile(optimizer='adam', loss='binary_crossentropy', metrics=['accuracy'])\n",
    "    return model\n",
    "\n",
    "model = create_baseline()\n",
    "model.summary()"
   ]
  },
  {
   "cell_type": "code",
   "execution_count": 49,
   "metadata": {
    "collapsed": false
   },
   "outputs": [],
   "source": [
    "df_all = pd.concat([df['VV'],df['gg']])\n",
    "dataset = df_all.values\n",
    "X = dataset[:,0:NDIM].astype(float)\n",
    "Y = dataset[:,NDIM]\n",
    "encoder = LabelEncoder()\n",
    "encoder.fit(Y)\n",
    "encoded_Y = encoder.transform(Y)\n",
    "\n",
    "kfold = StratifiedKFold(n_splits=2, shuffle=True,  random_state=seed)\n",
    "    \n",
    "early_stopping = EarlyStopping(monitor='val_loss', patience=10)"
   ]
  },
  {
   "cell_type": "code",
   "execution_count": 50,
   "metadata": {
    "collapsed": false
   },
   "outputs": [
    {
     "name": "stderr",
     "output_type": "stream",
     "text": [
      "/Library/Python/2.7/site-packages/ipykernel/__main__.py:6: UserWarning: Update your `Dense` call to the Keras 2 API: `Dense(20, activation=\"relu\", kernel_initializer=\"normal\")`\n",
      "/Library/Python/2.7/site-packages/ipykernel/__main__.py:8: UserWarning: Update your `Dense` call to the Keras 2 API: `Dense(20, activation=\"relu\", kernel_initializer=\"normal\")`\n",
      "/Library/Python/2.7/site-packages/ipykernel/__main__.py:10: UserWarning: Update your `Dense` call to the Keras 2 API: `Dense(1, activation=\"sigmoid\", kernel_initializer=\"normal\")`\n",
      "/Library/Python/2.7/site-packages/ipykernel/__main__.py:13: UserWarning: Update your `Model` call to the Keras 2 API: `Model(outputs=Tensor(\"de..., inputs=Tensor(\"in...)`\n",
      "/Library/Python/2.7/site-packages/ipykernel/__main__.py:16: UserWarning: The `nb_epoch` argument in `fit` has been renamed `epochs`.\n"
     ]
    },
    {
     "name": "stdout",
     "output_type": "stream",
     "text": [
      "Train on 9436 samples, validate on 9438 samples\n",
      "Epoch 1/100\n",
      "9436/9436 [==============================] - 1s - loss: 0.3980 - acc: 0.8233 - val_loss: 0.3812 - val_acc: 0.8297\n",
      "Epoch 2/100\n",
      "9436/9436 [==============================] - 1s - loss: 0.3886 - acc: 0.8298 - val_loss: 0.3787 - val_acc: 0.8297\n",
      "Epoch 3/100\n",
      "9436/9436 [==============================] - 1s - loss: 0.3920 - acc: 0.8298 - val_loss: 0.3815 - val_acc: 0.8297\n",
      "Epoch 4/100\n",
      "9436/9436 [==============================] - 1s - loss: 0.3882 - acc: 0.8298 - val_loss: 0.3783 - val_acc: 0.8297\n",
      "Epoch 5/100\n",
      "9436/9436 [==============================] - 1s - loss: 0.3879 - acc: 0.8298 - val_loss: 0.3787 - val_acc: 0.8297\n",
      "Epoch 6/100\n",
      "9436/9436 [==============================] - 1s - loss: 0.3892 - acc: 0.8298 - val_loss: 0.3780 - val_acc: 0.8297\n",
      "Epoch 7/100\n",
      "9436/9436 [==============================] - 1s - loss: 0.3868 - acc: 0.8298 - val_loss: 0.3824 - val_acc: 0.8297\n",
      "Epoch 8/100\n",
      "9436/9436 [==============================] - 1s - loss: 0.3869 - acc: 0.8298 - val_loss: 0.3777 - val_acc: 0.8297\n",
      "Epoch 9/100\n",
      "9436/9436 [==============================] - 1s - loss: 0.3884 - acc: 0.8298 - val_loss: 0.3803 - val_acc: 0.8297\n",
      "Epoch 10/100\n",
      "9436/9436 [==============================] - 1s - loss: 0.3871 - acc: 0.8298 - val_loss: 0.3816 - val_acc: 0.8297\n",
      "Epoch 11/100\n",
      "9436/9436 [==============================] - 1s - loss: 0.3881 - acc: 0.8298 - val_loss: 0.3807 - val_acc: 0.8297\n",
      "Epoch 12/100\n",
      "9436/9436 [==============================] - 1s - loss: 0.3857 - acc: 0.8298 - val_loss: 0.3846 - val_acc: 0.8297\n",
      "Epoch 13/100\n",
      "9436/9436 [==============================] - 1s - loss: 0.3875 - acc: 0.8298 - val_loss: 0.3870 - val_acc: 0.8297\n",
      "Epoch 14/100\n",
      "9436/9436 [==============================] - 1s - loss: 0.3835 - acc: 0.8298 - val_loss: 0.3991 - val_acc: 0.8297\n",
      "Epoch 15/100\n",
      "9436/9436 [==============================] - 1s - loss: 0.3876 - acc: 0.8298 - val_loss: 0.3788 - val_acc: 0.8297\n",
      "Epoch 16/100\n",
      "9436/9436 [==============================] - 1s - loss: 0.3857 - acc: 0.8298 - val_loss: 0.3801 - val_acc: 0.8297\n",
      "Epoch 17/100\n",
      "9436/9436 [==============================] - 1s - loss: 0.3850 - acc: 0.8298 - val_loss: 0.3771 - val_acc: 0.8297\n",
      "Epoch 18/100\n",
      "9436/9436 [==============================] - 1s - loss: 0.3859 - acc: 0.8298 - val_loss: 0.4012 - val_acc: 0.8297\n",
      "Epoch 19/100\n",
      "9436/9436 [==============================] - 1s - loss: 0.3863 - acc: 0.8298 - val_loss: 0.3834 - val_acc: 0.8297\n",
      "Epoch 20/100\n",
      "9436/9436 [==============================] - 1s - loss: 0.3827 - acc: 0.8298 - val_loss: 0.3773 - val_acc: 0.8297\n",
      "Epoch 21/100\n",
      "9436/9436 [==============================] - 1s - loss: 0.3868 - acc: 0.8298 - val_loss: 0.3767 - val_acc: 0.8297\n",
      "Epoch 22/100\n",
      "9436/9436 [==============================] - 1s - loss: 0.3874 - acc: 0.8298 - val_loss: 0.3874 - val_acc: 0.8297\n",
      "Epoch 23/100\n",
      "9436/9436 [==============================] - 1s - loss: 0.3850 - acc: 0.8298 - val_loss: 0.3777 - val_acc: 0.8297\n",
      "Epoch 24/100\n",
      "9436/9436 [==============================] - 1s - loss: 0.3857 - acc: 0.8298 - val_loss: 0.3763 - val_acc: 0.8297\n",
      "Epoch 25/100\n",
      "9436/9436 [==============================] - 1s - loss: 0.3855 - acc: 0.8298 - val_loss: 0.3905 - val_acc: 0.8297\n",
      "Epoch 26/100\n",
      "9436/9436 [==============================] - 1s - loss: 0.3849 - acc: 0.8298 - val_loss: 0.3761 - val_acc: 0.8297\n",
      "Epoch 27/100\n",
      "9436/9436 [==============================] - 1s - loss: 0.3864 - acc: 0.8298 - val_loss: 0.3805 - val_acc: 0.8297\n",
      "Epoch 28/100\n",
      "9436/9436 [==============================] - 1s - loss: 0.3859 - acc: 0.8298 - val_loss: 0.3889 - val_acc: 0.8297\n",
      "Epoch 29/100\n",
      "9436/9436 [==============================] - 1s - loss: 0.3853 - acc: 0.8298 - val_loss: 0.3758 - val_acc: 0.8297\n",
      "Epoch 30/100\n",
      "9436/9436 [==============================] - 1s - loss: 0.3859 - acc: 0.8298 - val_loss: 0.3910 - val_acc: 0.8297\n",
      "Epoch 31/100\n",
      "9436/9436 [==============================] - 1s - loss: 0.3856 - acc: 0.8298 - val_loss: 0.3754 - val_acc: 0.8297\n",
      "Epoch 32/100\n",
      "9436/9436 [==============================] - 1s - loss: 0.3829 - acc: 0.8298 - val_loss: 0.3856 - val_acc: 0.8297\n",
      "Epoch 33/100\n",
      "9436/9436 [==============================] - 1s - loss: 0.3859 - acc: 0.8298 - val_loss: 0.3797 - val_acc: 0.8297\n",
      "Epoch 34/100\n",
      "9436/9436 [==============================] - 1s - loss: 0.3851 - acc: 0.8298 - val_loss: 0.3751 - val_acc: 0.8297\n",
      "Epoch 35/100\n",
      "9436/9436 [==============================] - 1s - loss: 0.3856 - acc: 0.8298 - val_loss: 0.3750 - val_acc: 0.8297\n",
      "Epoch 36/100\n",
      "9436/9436 [==============================] - 1s - loss: 0.3831 - acc: 0.8298 - val_loss: 0.3749 - val_acc: 0.8297\n",
      "Epoch 37/100\n",
      "9436/9436 [==============================] - 1s - loss: 0.3861 - acc: 0.8298 - val_loss: 0.3787 - val_acc: 0.8297\n",
      "Epoch 38/100\n",
      "9436/9436 [==============================] - 1s - loss: 0.3865 - acc: 0.8298 - val_loss: 0.3997 - val_acc: 0.8297\n",
      "Epoch 39/100\n",
      "9436/9436 [==============================] - 1s - loss: 0.3853 - acc: 0.8298 - val_loss: 0.3776 - val_acc: 0.8297\n",
      "Epoch 40/100\n",
      "9436/9436 [==============================] - 1s - loss: 0.3851 - acc: 0.8298 - val_loss: 0.3840 - val_acc: 0.8297\n",
      "Epoch 41/100\n",
      "9436/9436 [==============================] - 1s - loss: 0.3821 - acc: 0.8298 - val_loss: 0.3749 - val_acc: 0.8297\n",
      "Epoch 42/100\n",
      "9436/9436 [==============================] - 1s - loss: 0.3849 - acc: 0.8298 - val_loss: 0.3748 - val_acc: 0.8297\n",
      "Epoch 43/100\n",
      "9436/9436 [==============================] - 1s - loss: 0.3827 - acc: 0.8298 - val_loss: 0.3743 - val_acc: 0.8297\n",
      "Epoch 44/100\n",
      "9436/9436 [==============================] - 1s - loss: 0.3825 - acc: 0.8298 - val_loss: 0.3742 - val_acc: 0.8297\n",
      "Epoch 45/100\n",
      "9436/9436 [==============================] - 1s - loss: 0.3840 - acc: 0.8298 - val_loss: 0.3764 - val_acc: 0.8297\n",
      "Epoch 46/100\n",
      "9436/9436 [==============================] - 1s - loss: 0.3835 - acc: 0.8298 - val_loss: 0.3767 - val_acc: 0.8297\n",
      "Epoch 47/100\n",
      "9436/9436 [==============================] - 1s - loss: 0.3837 - acc: 0.8298 - val_loss: 0.3747 - val_acc: 0.8297\n",
      "Epoch 48/100\n",
      "9436/9436 [==============================] - 1s - loss: 0.3825 - acc: 0.8298 - val_loss: 0.3771 - val_acc: 0.8297\n",
      "Epoch 49/100\n",
      "9436/9436 [==============================] - 1s - loss: 0.3831 - acc: 0.8298 - val_loss: 0.3833 - val_acc: 0.8297\n",
      "Epoch 50/100\n",
      "9436/9436 [==============================] - 1s - loss: 0.3856 - acc: 0.8298 - val_loss: 0.3775 - val_acc: 0.8297\n",
      "Epoch 51/100\n",
      "9436/9436 [==============================] - 1s - loss: 0.3832 - acc: 0.8298 - val_loss: 0.3739 - val_acc: 0.8297\n",
      "Epoch 52/100\n",
      "9436/9436 [==============================] - 1s - loss: 0.3832 - acc: 0.8298 - val_loss: 0.3792 - val_acc: 0.8297\n",
      "Epoch 53/100\n",
      "9436/9436 [==============================] - 1s - loss: 0.3849 - acc: 0.8298 - val_loss: 0.3822 - val_acc: 0.8297\n",
      "Epoch 54/100\n",
      "9436/9436 [==============================] - 1s - loss: 0.3838 - acc: 0.8298 - val_loss: 0.3806 - val_acc: 0.8297\n",
      "Epoch 55/100\n",
      "9436/9436 [==============================] - 1s - loss: 0.3836 - acc: 0.8298 - val_loss: 0.3771 - val_acc: 0.8297\n",
      "Epoch 56/100\n",
      "9436/9436 [==============================] - 1s - loss: 0.3842 - acc: 0.8298 - val_loss: 0.3750 - val_acc: 0.8297\n",
      "Epoch 57/100\n",
      "9436/9436 [==============================] - 1s - loss: 0.3836 - acc: 0.8298 - val_loss: 0.4048 - val_acc: 0.8297\n",
      "Epoch 58/100\n",
      "9436/9436 [==============================] - 1s - loss: 0.3842 - acc: 0.8298 - val_loss: 0.3756 - val_acc: 0.8297\n",
      "Epoch 59/100\n",
      "9436/9436 [==============================] - 1s - loss: 0.3826 - acc: 0.8298 - val_loss: 0.3780 - val_acc: 0.8297\n",
      "Epoch 60/100\n",
      "9436/9436 [==============================] - 1s - loss: 0.3818 - acc: 0.8298 - val_loss: 0.3756 - val_acc: 0.8297\n",
      "Epoch 61/100\n",
      "9436/9436 [==============================] - 1s - loss: 0.3847 - acc: 0.8298 - val_loss: 0.3755 - val_acc: 0.8297\n",
      "Epoch 62/100\n",
      "9436/9436 [==============================] - 1s - loss: 0.3831 - acc: 0.8298 - val_loss: 0.3738 - val_acc: 0.8297\n",
      "Epoch 63/100\n",
      "9436/9436 [==============================] - 1s - loss: 0.3842 - acc: 0.8298 - val_loss: 0.3748 - val_acc: 0.8297\n",
      "Epoch 64/100\n",
      "9436/9436 [==============================] - 1s - loss: 0.3830 - acc: 0.8298 - val_loss: 0.3755 - val_acc: 0.8297\n",
      "Epoch 65/100\n",
      "9436/9436 [==============================] - 1s - loss: 0.3841 - acc: 0.8298 - val_loss: 0.3847 - val_acc: 0.8297\n",
      "Epoch 66/100\n",
      "9436/9436 [==============================] - 1s - loss: 0.3828 - acc: 0.8298 - val_loss: 0.3804 - val_acc: 0.8297\n",
      "Epoch 67/100\n",
      "9436/9436 [==============================] - 1s - loss: 0.3840 - acc: 0.8298 - val_loss: 0.3793 - val_acc: 0.8297\n",
      "Epoch 68/100\n",
      "9436/9436 [==============================] - 1s - loss: 0.3845 - acc: 0.8298 - val_loss: 0.3741 - val_acc: 0.8297\n",
      "Epoch 69/100\n",
      "9436/9436 [==============================] - 1s - loss: 0.3810 - acc: 0.8298 - val_loss: 0.3787 - val_acc: 0.8297\n",
      "Epoch 70/100\n",
      "9436/9436 [==============================] - 1s - loss: 0.3834 - acc: 0.8298 - val_loss: 0.3857 - val_acc: 0.8297\n",
      "Epoch 71/100\n",
      "9436/9436 [==============================] - 1s - loss: 0.3841 - acc: 0.8298 - val_loss: 0.3818 - val_acc: 0.8297\n",
      "Epoch 72/100\n",
      "9436/9436 [==============================] - 1s - loss: 0.3824 - acc: 0.8298 - val_loss: 0.3773 - val_acc: 0.8297\n",
      "Epoch 73/100\n",
      "9436/9436 [==============================] - 1s - loss: 0.3828 - acc: 0.8298 - val_loss: 0.3911 - val_acc: 0.8297\n",
      "Train on 9438 samples, validate on 9436 samples\n",
      "Epoch 1/100\n",
      "9438/9438 [==============================] - 2s - loss: 0.3957 - acc: 0.8259 - val_loss: 0.3814 - val_acc: 0.8298\n",
      "Epoch 2/100\n",
      "9438/9438 [==============================] - 1s - loss: 0.3862 - acc: 0.8297 - val_loss: 0.3810 - val_acc: 0.8298\n",
      "Epoch 3/100\n",
      "9438/9438 [==============================] - 1s - loss: 0.3866 - acc: 0.8297 - val_loss: 0.3849 - val_acc: 0.8298\n",
      "Epoch 4/100\n",
      "9438/9438 [==============================] - 1s - loss: 0.3865 - acc: 0.8297 - val_loss: 0.3943 - val_acc: 0.8298\n",
      "Epoch 5/100\n",
      "9438/9438 [==============================] - 1s - loss: 0.3831 - acc: 0.8297 - val_loss: 0.3907 - val_acc: 0.8298\n",
      "Epoch 6/100\n",
      "9438/9438 [==============================] - 1s - loss: 0.3835 - acc: 0.8297 - val_loss: 0.3997 - val_acc: 0.8298\n",
      "Epoch 7/100\n",
      "9438/9438 [==============================] - 1s - loss: 0.3852 - acc: 0.8297 - val_loss: 0.3806 - val_acc: 0.8298\n",
      "Epoch 8/100\n",
      "9438/9438 [==============================] - 1s - loss: 0.3832 - acc: 0.8297 - val_loss: 0.3903 - val_acc: 0.8298\n",
      "Epoch 9/100\n",
      "9438/9438 [==============================] - 1s - loss: 0.3821 - acc: 0.8297 - val_loss: 0.3802 - val_acc: 0.8298\n",
      "Epoch 10/100\n",
      "9438/9438 [==============================] - 1s - loss: 0.3814 - acc: 0.8297 - val_loss: 0.3830 - val_acc: 0.8298\n",
      "Epoch 11/100\n",
      "9438/9438 [==============================] - 1s - loss: 0.3848 - acc: 0.8297 - val_loss: 0.3801 - val_acc: 0.8298\n",
      "Epoch 12/100\n",
      "9438/9438 [==============================] - 1s - loss: 0.3827 - acc: 0.8297 - val_loss: 0.3834 - val_acc: 0.8298\n",
      "Epoch 13/100\n",
      "9438/9438 [==============================] - 1s - loss: 0.3851 - acc: 0.8297 - val_loss: 0.3841 - val_acc: 0.8298\n",
      "Epoch 14/100\n",
      "9438/9438 [==============================] - 1s - loss: 0.3828 - acc: 0.8297 - val_loss: 0.3802 - val_acc: 0.8298\n",
      "Epoch 15/100\n",
      "9438/9438 [==============================] - 1s - loss: 0.3825 - acc: 0.8297 - val_loss: 0.3797 - val_acc: 0.8298\n",
      "Epoch 16/100\n",
      "9438/9438 [==============================] - 1s - loss: 0.3858 - acc: 0.8297 - val_loss: 0.3799 - val_acc: 0.8298\n",
      "Epoch 17/100\n",
      "9438/9438 [==============================] - 1s - loss: 0.3813 - acc: 0.8297 - val_loss: 0.3839 - val_acc: 0.8298\n",
      "Epoch 18/100\n",
      "9438/9438 [==============================] - 1s - loss: 0.3820 - acc: 0.8297 - val_loss: 0.3797 - val_acc: 0.8298\n",
      "Epoch 19/100\n",
      "9438/9438 [==============================] - 1s - loss: 0.3821 - acc: 0.8297 - val_loss: 0.3907 - val_acc: 0.8298\n",
      "Epoch 20/100\n",
      "9438/9438 [==============================] - 1s - loss: 0.3829 - acc: 0.8297 - val_loss: 0.3859 - val_acc: 0.8298\n",
      "Epoch 21/100\n",
      "9438/9438 [==============================] - 1s - loss: 0.3805 - acc: 0.8297 - val_loss: 0.3886 - val_acc: 0.8298\n",
      "Epoch 22/100\n",
      "9438/9438 [==============================] - 1s - loss: 0.3809 - acc: 0.8297 - val_loss: 0.3790 - val_acc: 0.8298\n",
      "Epoch 23/100\n",
      "9438/9438 [==============================] - 1s - loss: 0.3804 - acc: 0.8297 - val_loss: 0.3793 - val_acc: 0.8298\n",
      "Epoch 24/100\n",
      "9438/9438 [==============================] - 1s - loss: 0.3823 - acc: 0.8297 - val_loss: 0.3986 - val_acc: 0.8298\n",
      "Epoch 25/100\n",
      "9438/9438 [==============================] - 1s - loss: 0.3824 - acc: 0.8297 - val_loss: 0.3784 - val_acc: 0.8298\n",
      "Epoch 26/100\n",
      "9438/9438 [==============================] - 1s - loss: 0.3794 - acc: 0.8297 - val_loss: 0.3800 - val_acc: 0.8298\n",
      "Epoch 27/100\n",
      "9438/9438 [==============================] - 1s - loss: 0.3827 - acc: 0.8297 - val_loss: 0.3793 - val_acc: 0.8298\n",
      "Epoch 28/100\n",
      "9438/9438 [==============================] - 1s - loss: 0.3816 - acc: 0.8297 - val_loss: 0.3804 - val_acc: 0.8298\n",
      "Epoch 29/100\n",
      "9438/9438 [==============================] - 1s - loss: 0.3795 - acc: 0.8297 - val_loss: 0.3788 - val_acc: 0.8298\n",
      "Epoch 30/100\n",
      "9438/9438 [==============================] - 1s - loss: 0.3807 - acc: 0.8297 - val_loss: 0.3830 - val_acc: 0.8298\n",
      "Epoch 31/100\n",
      "9438/9438 [==============================] - 1s - loss: 0.3792 - acc: 0.8297 - val_loss: 0.3807 - val_acc: 0.8298\n",
      "Epoch 32/100\n",
      "9438/9438 [==============================] - 1s - loss: 0.3814 - acc: 0.8297 - val_loss: 0.3843 - val_acc: 0.8298\n",
      "Epoch 33/100\n",
      "9438/9438 [==============================] - 1s - loss: 0.3799 - acc: 0.8297 - val_loss: 0.3788 - val_acc: 0.8298\n",
      "Epoch 34/100\n",
      "9438/9438 [==============================] - 1s - loss: 0.3794 - acc: 0.8297 - val_loss: 0.3793 - val_acc: 0.8298\n",
      "Epoch 35/100\n",
      "9438/9438 [==============================] - 1s - loss: 0.3802 - acc: 0.8297 - val_loss: 0.3790 - val_acc: 0.8298\n",
      "Epoch 36/100\n",
      "9438/9438 [==============================] - 1s - loss: 0.3813 - acc: 0.8297 - val_loss: 0.3779 - val_acc: 0.8298\n",
      "Epoch 37/100\n",
      "9438/9438 [==============================] - 1s - loss: 0.3807 - acc: 0.8297 - val_loss: 0.3776 - val_acc: 0.8298\n",
      "Epoch 38/100\n",
      "9438/9438 [==============================] - 1s - loss: 0.3791 - acc: 0.8297 - val_loss: 0.3780 - val_acc: 0.8298\n",
      "Epoch 39/100\n",
      "9438/9438 [==============================] - 1s - loss: 0.3788 - acc: 0.8297 - val_loss: 0.3907 - val_acc: 0.8298\n",
      "Epoch 40/100\n",
      "9438/9438 [==============================] - 1s - loss: 0.3802 - acc: 0.8297 - val_loss: 0.3777 - val_acc: 0.8298\n",
      "Epoch 41/100\n",
      "9438/9438 [==============================] - 1s - loss: 0.3779 - acc: 0.8297 - val_loss: 0.3774 - val_acc: 0.8298\n",
      "Epoch 42/100\n",
      "9438/9438 [==============================] - 1s - loss: 0.3814 - acc: 0.8297 - val_loss: 0.3781 - val_acc: 0.8298\n",
      "Epoch 43/100\n",
      "9438/9438 [==============================] - 1s - loss: 0.3782 - acc: 0.8297 - val_loss: 0.3920 - val_acc: 0.8298\n",
      "Epoch 44/100\n",
      "9438/9438 [==============================] - 1s - loss: 0.3781 - acc: 0.8297 - val_loss: 0.3792 - val_acc: 0.8298\n",
      "Epoch 45/100\n",
      "9438/9438 [==============================] - 1s - loss: 0.3799 - acc: 0.8297 - val_loss: 0.3862 - val_acc: 0.8298\n",
      "Epoch 46/100\n",
      "9438/9438 [==============================] - 1s - loss: 0.3805 - acc: 0.8297 - val_loss: 0.3765 - val_acc: 0.8298\n",
      "Epoch 47/100\n",
      "9438/9438 [==============================] - 1s - loss: 0.3801 - acc: 0.8297 - val_loss: 0.3810 - val_acc: 0.8298\n",
      "Epoch 48/100\n",
      "9438/9438 [==============================] - 1s - loss: 0.3799 - acc: 0.8297 - val_loss: 0.3767 - val_acc: 0.8298\n",
      "Epoch 49/100\n",
      "9438/9438 [==============================] - 1s - loss: 0.3793 - acc: 0.8297 - val_loss: 0.3806 - val_acc: 0.8298\n",
      "Epoch 50/100\n",
      "9438/9438 [==============================] - 1s - loss: 0.3804 - acc: 0.8297 - val_loss: 0.3864 - val_acc: 0.8298\n",
      "Epoch 51/100\n",
      "9438/9438 [==============================] - 1s - loss: 0.3777 - acc: 0.8297 - val_loss: 0.3766 - val_acc: 0.8298\n",
      "Epoch 52/100\n",
      "9438/9438 [==============================] - 1s - loss: 0.3758 - acc: 0.8297 - val_loss: 0.3812 - val_acc: 0.8298\n",
      "Epoch 53/100\n",
      "9438/9438 [==============================] - 1s - loss: 0.3773 - acc: 0.8297 - val_loss: 0.3811 - val_acc: 0.8298\n",
      "Epoch 54/100\n",
      "9438/9438 [==============================] - 1s - loss: 0.3778 - acc: 0.8297 - val_loss: 0.3779 - val_acc: 0.8298\n",
      "Epoch 55/100\n",
      "9438/9438 [==============================] - 1s - loss: 0.3817 - acc: 0.8297 - val_loss: 0.3855 - val_acc: 0.8298\n",
      "Epoch 56/100\n",
      "9438/9438 [==============================] - 1s - loss: 0.3798 - acc: 0.8297 - val_loss: 0.3797 - val_acc: 0.8298\n",
      "Epoch 57/100\n",
      "9438/9438 [==============================] - 1s - loss: 0.3794 - acc: 0.8297 - val_loss: 0.3770 - val_acc: 0.8298\n"
     ]
    },
    {
     "data": {
      "image/png": "[encoded data removed]",
      "text/plain": [
       "<matplotlib.figure.Figure at 0x117be9c90>"
      ]
     },
     "metadata": {},
     "output_type": "display_data"
    }
   ],
   "source": [
    "# Run classifier with cross-validation and plot ROC curves\n",
    "from itertools import cycle\n",
    "from sklearn.metrics import roc_curve, auc\n",
    "from scipy import interp\n",
    "\n",
    "mean_tpr = 0.0\n",
    "mean_fpr = np.linspace(0, 1, 100)\n",
    "\n",
    "colors = cycle(['cyan', 'indigo', 'seagreen', 'yellow', 'blue', 'darkorange', 'red', 'black', 'green', 'brown'])\n",
    "lw = 2\n",
    "\n",
    "i = 0\n",
    "histories = []\n",
    "for (train, test), color in zip(kfold.split(X, encoded_Y), colors):\n",
    "    model = create_baseline()\n",
    "    history = model.fit(X[train], encoded_Y[train], validation_data=(X[test], encoded_Y[test]), nb_epoch=100, batch_size=32, verbose=1, callbacks=[early_stopping])\n",
    "    Y_score = model.predict(X[test])\n",
    "    histories.append(history)\n",
    "    # Compute ROC curve and area the curve\n",
    "    fpr, tpr, thresholds = roc_curve(encoded_Y[test], Y_score)\n",
    "    mean_tpr += interp(mean_fpr, fpr, tpr)\n",
    "    mean_tpr[0] = 0.0\n",
    "    roc_auc = auc(fpr, tpr)\n",
    "    plt.plot(fpr, tpr, lw=lw, color=color, label='ROC fold %d (area = %0.2f)' % (i, roc_auc))\n",
    "    i += 1\n",
    "plt.plot([0, 1], [0, 1], linestyle='--', lw=lw, color='k', label='Luck')\n",
    "mean_tpr /= kfold.get_n_splits(X, encoded_Y)\n",
    "mean_tpr[-1] = 1.0\n",
    "mean_auc = auc(mean_fpr, mean_tpr)\n",
    "plt.plot(mean_fpr, mean_tpr, color='g', linestyle='--',label='Mean ROC (area = %0.2f)' % mean_auc, lw=lw)\n",
    "plt.xlim([0, 1.0])\n",
    "plt.ylim([0, 1.0])\n",
    "plt.xlabel('False Positive Rate')\n",
    "plt.ylabel('True Positive Rate')\n",
    "plt.title('Receiver operating characteristic example')\n",
    "plt.legend(loc=\"lower right\")\n",
    "plt.show()"
   ]
  },
  {
   "cell_type": "code",
   "execution_count": 55,
   "metadata": {
    "collapsed": false
   },
   "outputs": [
    {
     "name": "stdout",
     "output_type": "stream",
     "text": [
      "      f_massjj  f_deltajj  isSignal     dense\n",
      "0  1300.426880   5.128572       1.0  0.958264\n",
      "1   437.221863   3.278692       1.0  0.786792\n",
      "3  1021.744080   5.989169       1.0  0.945267\n",
      "4  1101.381958   5.170628       1.0  0.943236\n",
      "7   498.717194   4.895020       1.0  0.851568\n"
     ]
    }
   ],
   "source": [
    "df_all['dense'] = model.predict(X) # add prediction to array\n",
    "print df_all.iloc[:5]"
   ]
  },
  {
   "cell_type": "code",
   "execution_count": 59,
   "metadata": {
    "collapsed": false
   },
   "outputs": [
    {
     "data": {
      "text/plain": [
       "<matplotlib.legend.Legend at 0x11cef3e50>"
      ]
     },
     "execution_count": 59,
     "metadata": {},
     "output_type": "execute_result"
    },
    {
     "data": {
      "image/png": "[encoded data removed]",
      "text/plain": [
       "<matplotlib.figure.Figure at 0x11c518410>"
      ]
     },
     "metadata": {},
     "output_type": "display_data"
    },
    {
     "data": {
      "image/png": "[encoded data removed]",
      "text/plain": [
       "<matplotlib.figure.Figure at 0x11ccc0050>"
      ]
     },
     "metadata": {},
     "output_type": "display_data"
    }
   ],
   "source": [
    "plt.figure()\n",
    "plt.xlabel(VARS[0])\n",
    "bins = np.linspace(0, 2000, 70)\n",
    "df_all[VARS[0]].plot.hist(bins, alpha=0.5, label='VV enhanced',normed=True,  weights = df_all['dense'])\n",
    "df_all[VARS[0]].plot.hist(bins, alpha=0.5, label='gg enhanced',normed=True,  weights = 1.-df_all['dense'])\n",
    "plt.legend(loc='upper right')\n",
    "plt.figure()\n",
    "plt.xlabel(VARS[1])\n",
    "bins = np.linspace(0, 10, 70)\n",
    "df_all[VARS[1]].plot.hist(bins, alpha=0.5, label='VV enhanced',normed=True,  weights = df_all['dense'])\n",
    "df_all[VARS[1]].plot.hist(bins, alpha=0.5, label='gg enhanced',normed=True,  weights = 1.-df_all['dense'])\n",
    "plt.legend(loc='upper right')"
   ]
  },
  {
   "cell_type": "code",
   "execution_count": null,
   "metadata": {
    "collapsed": true
   },
   "outputs": [],
   "source": []
  }
 ],
 "metadata": {
  "kernelspec": {
   "display_name": "Python 2",
   "language": "python",
   "name": "python2"
  },
  "language_info": {
   "codemirror_mode": {
    "name": "ipython",
    "version": 2
   },
   "file_extension": ".py",
   "mimetype": "text/x-python",
   "name": "python",
   "nbconvert_exporter": "python",
   "pygments_lexer": "ipython2",
   "version": "2.7.10"
  }
 },
 "nbformat": 4,
 "nbformat_minor": 0
}
