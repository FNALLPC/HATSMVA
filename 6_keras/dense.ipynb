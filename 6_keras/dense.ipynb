{
 "cells": [
  {
   "cell_type": "markdown",
   "metadata": {},
   "source": [
    "# Keras dense neural network tutorial\n",
    "Author: Javier Duarte\n",
    "\n",
    "# Table of Contents\n",
    "* [References](#References)\n",
    "* [Loading libraries](#Loading-libraries)\n",
    "* [Loading numpy arrays](#Loading-numpy-arrays)\n",
    "* [Convert to Pandas DataFrame](#Convert-to-Pandas-DataFrame)\n",
    "* [Plotting inputs](#Plotting-inputs)\n",
    "* [Dense neural network](#Dense-neural-network)\n",
    "* [Plotting inputs weighted by prediction](#Plotting-inputs-weighted-by-prediction)\n",
    "\n",
    "## References\n",
    "### Data\n",
    "1. CMS MVA HATS Twiki https://twiki.cern.ch/twiki/bin/view/CMS/MVATechniquesatLPC2017\n",
    "\n",
    "### Software\n",
    "1. Keras. https://github.com/fchollet/keras\n",
    "1. TensorFlow: Large-Scale Machine Learning on Heterogeneous Systems. http://tensorflow.org/\n",
    "1. Theano: A Python framework for fast computation of mathematical expressions. https://arxiv.org/abs/1605.02688 http://deeplearning.net/software/theano/\n",
    "1. scikit-learn: Machine Learning in python. http://scikit-learn.org/stable/"
   ]
  },
  {
   "cell_type": "markdown",
   "metadata": {},
   "source": [
    "## Loading libraries\n",
    "First we load the relevant libraries."
   ]
  },
  {
   "cell_type": "code",
   "execution_count": 1,
   "metadata": {
    "collapsed": false
   },
   "outputs": [
    {
     "name": "stderr",
     "output_type": "stream",
     "text": [
      "Using Theano backend.\n"
     ]
    }
   ],
   "source": [
    "import os\n",
    "#os.environ['THEANO_FLAGS'] = 'optimizer=None'\n",
    "from sklearn.preprocessing import LabelEncoder\n",
    "from sklearn.model_selection import train_test_split\n",
    "from sklearn.model_selection import cross_val_score\n",
    "from sklearn.model_selection import StratifiedKFold\n",
    "from sklearn.preprocessing import StandardScaler\n",
    "from sklearn.pipeline import Pipeline\n",
    "from keras.models import Sequential, Model\n",
    "from keras.optimizers import SGD\n",
    "from keras.layers import Input, Activation, Dense, Convolution2D, MaxPooling2D, Dropout, Flatten\n",
    "from keras.utils import np_utils\n",
    "from keras.wrappers.scikit_learn import KerasClassifier\n",
    "from keras.callbacks import EarlyStopping\n",
    "import numpy as np\n",
    "import pandas as pd\n",
    "import sys\n",
    "import glob\n",
    "import matplotlib.pyplot as plt\n",
    "import h5py\n",
    "# fix random seed for reproducibility\n",
    "seed = 7\n",
    "np.random.seed(seed)"
   ]
  },
  {
   "cell_type": "markdown",
   "metadata": {},
   "source": [
    "## Loading numpy arrays\n",
    "Now we load two different numpy outputs. One corresponding to the VV signal and one corresponding to the gg background."
   ]
  },
  {
   "cell_type": "code",
   "execution_count": null,
   "metadata": {
    "collapsed": true
   },
   "outputs": [],
   "source": [
    "treename = 'HZZ4LeptonsAnalysisReduced'\n",
    "VARS = ['f_massjj','f_deltajj']\n",
    "filename = {}\n",
    "h5file = {}\n",
    "params = {}\n",
    "df = {}\n",
    "\n",
    "filename['VV'] = '../data/ntuple_4mu_VV.h5'\n",
    "filename['gg'] = '../data/ntuple_4mu_gg.h5'\n",
    "\n",
    "h5file['VV'] = h5py.File(filename['VV'], 'r') # open read-only\n",
    "params['VV'] = h5file['VV'][treename][()]\n",
    "h5file['gg'] = h5py.File(filename['gg'], 'r') # open read-only\n",
    "params['gg'] = h5file['gg'][treename][()]"
   ]
  },
  {
   "cell_type": "markdown",
   "metadata": {},
   "source": [
    "## Convert to Pandas DataFrame\n",
    "Now we can convert the numpy arrays to data frames. First we can look at the features that are available. \n",
    "\n",
    "To start with, we'll just take two inputs (`f_massjj`, `f_deltajj`)."
   ]
  },
  {
   "cell_type": "code",
   "execution_count": 12,
   "metadata": {
    "collapsed": false
   },
   "outputs": [
    {
     "name": "stdout",
     "output_type": "stream",
     "text": [
      "('f_run', 'f_lumi', 'f_event', 'f_weight', 'f_int_weight', 'f_pu_weight', 'f_eff_weight', 'f_lept1_pt', 'f_lept1_eta', 'f_lept1_phi', 'f_lept1_charge', 'f_lept1_pfx', 'f_lept1_sip', 'f_lept2_pt', 'f_lept2_eta', 'f_lept2_phi', 'f_lept2_charge', 'f_lept2_pfx', 'f_lept2_sip', 'f_lept3_pt', 'f_lept3_eta', 'f_lept3_phi', 'f_lept3_charge', 'f_lept3_pfx', 'f_lept3_sip', 'f_lept4_pt', 'f_lept4_eta', 'f_lept4_phi', 'f_lept4_charge', 'f_lept4_pfx', 'f_lept4_sip', 'f_iso_max', 'f_sip_max', 'f_Z1mass', 'f_Z2mass', 'f_angle_costhetastar', 'f_angle_costheta1', 'f_angle_costheta2', 'f_angle_phi', 'f_angle_phistar1', 'f_pt4l', 'f_eta4l', 'f_mass4l', 'f_mass4lErr', 'f_njets_pass', 'f_deltajj', 'f_massjj', 'f_D_jet', 'f_jet1_pt', 'f_jet1_eta', 'f_jet1_phi', 'f_jet1_e', 'f_jet2_pt', 'f_jet2_eta', 'f_jet2_phi', 'f_jet2_e', 'f_D_bkg_kin', 'f_D_bkg', 'f_D_gg', 'f_D_g4', 'f_Djet_VAJHU', 'f_pfmet')\n",
      "      f_massjj  f_deltajj  isSignal\n",
      "0  1300.426880   5.128572       1.0\n",
      "1   437.221863   3.278692       1.0\n",
      "3  1021.744080   5.989169       1.0\n",
      "4  1101.381958   5.170628       1.0\n",
      "7   498.717194   4.895020       1.0\n",
      "      f_massjj  f_deltajj  isSignal\n",
      "4   121.394302   0.235953       0.0\n",
      "8   127.803024   2.774860       0.0\n",
      "12   76.221428   0.730752       0.0\n",
      "15   95.511597   1.546654       0.0\n",
      "18   26.986721   0.283680       0.0\n"
     ]
    }
   ],
   "source": [
    "print params['VV'].dtype.names\n",
    "\n",
    "df['VV'] = pd.DataFrame(params['VV'],columns=VARS)\n",
    "df['gg'] = pd.DataFrame(params['gg'],columns=VARS)\n",
    "\n",
    "df['VV']= df['VV'][(df['VV'].f_massjj > 0) & (df['VV'].f_deltajj > 0)] # cut out undefined variables\n",
    "df['gg']= df['gg'][(df['gg'].f_massjj > 0) & (df['gg'].f_deltajj > 0)] # cut out undefined variables\n",
    "\n",
    "df['VV']['isSignal'] = np.ones(len(df['VV'])) # add isSignal variable\n",
    "df['gg']['isSignal'] = np.zeros(len(df['gg'])) # add isSignal variable\n",
    "\n",
    "print df['VV'].iloc[:5] # print first 5 entries\n",
    "print df['gg'].iloc[:5] # print first 5 entries"
   ]
  },
  {
   "cell_type": "markdown",
   "metadata": {},
   "source": [
    "## Plotting inputs\n",
    "Let's make some plots of the inputs (`f_massjj`, `f_deltajj`)."
   ]
  },
  {
   "cell_type": "code",
   "execution_count": 13,
   "metadata": {
    "collapsed": false
   },
   "outputs": [
    {
     "data": {
      "text/plain": [
       "<matplotlib.legend.Legend at 0x7f72596a4a10>"
      ]
     },
     "execution_count": 13,
     "metadata": {},
     "output_type": "execute_result"
    },
    {
     "data": {
      "image/png": "[encoded data removed]",
      "text/plain": [
       "<matplotlib.figure.Figure at 0x7f725b35f790>"
      ]
     },
     "metadata": {},
     "output_type": "display_data"
    },
    {
     "data": {
      "image/png": "[encoded data removed]",
      "text/plain": [
       "<matplotlib.figure.Figure at 0x7f7259cb20d0>"
      ]
     },
     "metadata": {},
     "output_type": "display_data"
    }
   ],
   "source": [
    "%matplotlib inline\n",
    "plt.figure()\n",
    "plt.xlabel(VARS[0])\n",
    "bins = np.linspace(0, 2000, 70)\n",
    "df['VV'][VARS[0]].plot.hist(bins, alpha=0.5, label='VV',normed=True)\n",
    "df['gg'][VARS[0]].plot.hist(bins, alpha=0.5, label='gg',normed=True)\n",
    "plt.legend(loc='upper right')\n",
    "plt.figure()\n",
    "plt.xlabel(VARS[1])\n",
    "bins = np.linspace(0, 10, 70)\n",
    "df['VV'][VARS[1]].plot.hist(bins, alpha=0.5, label='VV',normed=True)\n",
    "df['gg'][VARS[1]].plot.hist(bins, alpha=0.5, label='gg',normed=True)\n",
    "plt.legend(loc='upper right')"
   ]
  },
  {
   "cell_type": "markdown",
   "metadata": {},
   "source": [
    "# Dense neural network\n",
    "## Defining our model (neural net topology)\n",
    "We'll start with a densely-connected NN layer. Our model will have a single fully connected hidden layer with the same number of neurons as input variables. The weights are initialized using a small Gaussian random number. The Rectifier activation function is used. The output layer contains a single neuron in order to make predictions. It uses the sigmoid activation function in order to produce a probability output in the range of 0 to 1 that can easily and automatically be converted to class values (0 or 1).\n",
    "\n",
    "Finally, we are using the logarithmic loss function (`binary_crossentropy`) during training, a standard loss function for binary classification problems. The model also uses the efficient Adam optimization algorithm for gradient descent and accuracy metrics will be collected when the model is trained."
   ]
  },
  {
   "cell_type": "code",
   "execution_count": 4,
   "metadata": {
    "collapsed": false
   },
   "outputs": [
    {
     "name": "stdout",
     "output_type": "stream",
     "text": [
      "____________________________________________________________________________________________________\n",
      "Layer (type)                     Output Shape          Param #     Connected to                     \n",
      "====================================================================================================\n",
      "input_1 (InputLayer)             (None, 2)             0                                            \n",
      "____________________________________________________________________________________________________\n",
      "dense_1 (Dense)                  (None, 20)            60          input_1[0][0]                    \n",
      "____________________________________________________________________________________________________\n",
      "dropout_1 (Dropout)              (None, 20)            0           dense_1[0][0]                    \n",
      "____________________________________________________________________________________________________\n",
      "dense_2 (Dense)                  (None, 20)            420         dropout_1[0][0]                  \n",
      "____________________________________________________________________________________________________\n",
      "dropout_2 (Dropout)              (None, 20)            0           dense_2[0][0]                    \n",
      "____________________________________________________________________________________________________\n",
      "dense_3 (Dense)                  (None, 1)             21          dropout_2[0][0]                  \n",
      "====================================================================================================\n",
      "Total params: 501\n",
      "Trainable params: 501\n",
      "Non-trainable params: 0\n",
      "____________________________________________________________________________________________________\n"
     ]
    }
   ],
   "source": [
    "# baseline model\n",
    "NDIM = len(VARS)\n",
    "def create_baseline():\n",
    "    # This returns a tensor\n",
    "    inputs = Input(shape=(NDIM,))    \n",
    "    x = Dense(20, init='normal', activation='relu')(inputs)\n",
    "    x = Dropout(0.20)(x)\n",
    "    x = Dense(20, init='normal', activation='relu')(x)\n",
    "    x = Dropout(0.20)(x)\n",
    "    predictions = Dense(1, init='normal', activation='sigmoid')(x)\n",
    "    # This creates a model that includes\n",
    "    # the input layer and two dense layers (one output)\n",
    "    model = Model(input=inputs, output=predictions)\n",
    "    model.compile(optimizer='adam', loss='binary_crossentropy', metrics=['accuracy'])\n",
    "    return model\n",
    "\n",
    "model = create_baseline()\n",
    "model.summary()"
   ]
  },
  {
   "cell_type": "markdown",
   "metadata": {},
   "source": [
    "## Dividing the data for cross validation\n",
    "Now we can evaluate this model using stratified cross validation in the scikit-learn framework.\n",
    "\n",
    "We will split the data into two parts (one for training and one for testing). We will also define our early stopping criteria to prevent over-fitting."
   ]
  },
  {
   "cell_type": "code",
   "execution_count": 5,
   "metadata": {
    "collapsed": false
   },
   "outputs": [],
   "source": [
    "df_all = pd.concat([df['VV'],df['gg']])\n",
    "dataset = df_all.values\n",
    "X = dataset[:,0:NDIM].astype(float)\n",
    "Y = dataset[:,NDIM]\n",
    "encoder = LabelEncoder()\n",
    "encoder.fit(Y)\n",
    "encoded_Y = encoder.transform(Y)\n",
    "\n",
    "kfold = StratifiedKFold(n_splits=2, shuffle=True,  random_state=seed)\n",
    "    \n",
    "early_stopping = EarlyStopping(monitor='val_loss', patience=10)"
   ]
  },
  {
   "cell_type": "markdown",
   "metadata": {},
   "source": [
    "## Run training and visualize performance with ROC curves\n",
    "Here, we run the training (twice) and visualize the performance of our model with a ROC curve for each cross validation sample."
   ]
  },
  {
   "cell_type": "code",
   "execution_count": 8,
   "metadata": {
    "collapsed": false
   },
   "outputs": [
    {
     "name": "stdout",
     "output_type": "stream",
     "text": [
      "Train on 9436 samples, validate on 9438 samples\n",
      "Epoch 1/10\n",
      "0s - loss: 0.4029 - acc: 0.8249 - val_loss: 0.3782 - val_acc: 0.8297\n",
      "Epoch 2/10\n",
      "0s - loss: 0.3924 - acc: 0.8298 - val_loss: 0.3789 - val_acc: 0.8297\n",
      "Epoch 3/10\n",
      "0s - loss: 0.3908 - acc: 0.8298 - val_loss: 0.3821 - val_acc: 0.8297\n",
      "Epoch 4/10\n",
      "0s - loss: 0.3886 - acc: 0.8298 - val_loss: 0.3781 - val_acc: 0.8297\n",
      "Epoch 5/10\n",
      "0s - loss: 0.3908 - acc: 0.8298 - val_loss: 0.3830 - val_acc: 0.8297\n",
      "Epoch 6/10\n",
      "0s - loss: 0.3895 - acc: 0.8298 - val_loss: 0.3787 - val_acc: 0.8297\n",
      "Epoch 7/10\n",
      "0s - loss: 0.3882 - acc: 0.8298 - val_loss: 0.3796 - val_acc: 0.8297\n",
      "Epoch 8/10\n",
      "0s - loss: 0.3885 - acc: 0.8298 - val_loss: 0.3789 - val_acc: 0.8297\n",
      "Epoch 9/10\n",
      "0s - loss: 0.3892 - acc: 0.8298 - val_loss: 0.3781 - val_acc: 0.8297\n",
      "Epoch 10/10\n",
      "0s - loss: 0.3870 - acc: 0.8298 - val_loss: 0.3786 - val_acc: 0.8297\n",
      "Train on 9438 samples, validate on 9436 samples\n",
      "Epoch 1/10\n",
      "0s - loss: 0.3921 - acc: 0.8277 - val_loss: 0.3836 - val_acc: 0.8298\n",
      "Epoch 2/10\n",
      "0s - loss: 0.3880 - acc: 0.8297 - val_loss: 0.3808 - val_acc: 0.8298\n",
      "Epoch 3/10\n",
      "0s - loss: 0.3871 - acc: 0.8297 - val_loss: 0.3903 - val_acc: 0.8298\n",
      "Epoch 4/10\n",
      "0s - loss: 0.3850 - acc: 0.8297 - val_loss: 0.3827 - val_acc: 0.8298\n",
      "Epoch 5/10\n",
      "0s - loss: 0.3862 - acc: 0.8297 - val_loss: 0.3805 - val_acc: 0.8298\n",
      "Epoch 6/10\n",
      "0s - loss: 0.3886 - acc: 0.8297 - val_loss: 0.3827 - val_acc: 0.8298\n",
      "Epoch 7/10\n",
      "0s - loss: 0.3829 - acc: 0.8297 - val_loss: 0.3832 - val_acc: 0.8298\n",
      "Epoch 8/10\n",
      "0s - loss: 0.3828 - acc: 0.8297 - val_loss: 0.3808 - val_acc: 0.8298\n",
      "Epoch 9/10\n",
      "0s - loss: 0.3852 - acc: 0.8297 - val_loss: 0.3838 - val_acc: 0.8298\n",
      "Epoch 10/10\n",
      "0s - loss: 0.3853 - acc: 0.8297 - val_loss: 0.3806 - val_acc: 0.8298\n"
     ]
    },
    {
     "data": {
      "image/png": "[encoded data removed]",
      "text/plain": [
       "<matplotlib.figure.Figure at 0x7f725a71e690>"
      ]
     },
     "metadata": {},
     "output_type": "display_data"
    }
   ],
   "source": [
    "# Run classifier with cross-validation and plot ROC curves\n",
    "from itertools import cycle\n",
    "from sklearn.metrics import roc_curve, auc\n",
    "from scipy import interp\n",
    "\n",
    "mean_tpr = 0.0\n",
    "mean_fpr = np.linspace(0, 1, 100)\n",
    "\n",
    "colors = cycle(['cyan', 'indigo', 'seagreen', 'yellow', 'blue', 'darkorange', 'red', 'black', 'green', 'brown'])\n",
    "lw = 2\n",
    "\n",
    "i = 0\n",
    "histories = []\n",
    "for (train, test), color in zip(kfold.split(X, encoded_Y), colors):\n",
    "    model = create_baseline()\n",
    "    history = model.fit(X[train], encoded_Y[train], validation_data=(X[test], encoded_Y[test]), nb_epoch=10, batch_size=32, verbose=2, callbacks=[early_stopping])\n",
    "    Y_score = model.predict(X[test])\n",
    "    histories.append(history)\n",
    "    # Compute ROC curve and area the curve\n",
    "    fpr, tpr, thresholds = roc_curve(encoded_Y[test], Y_score)\n",
    "    mean_tpr += interp(mean_fpr, fpr, tpr)\n",
    "    mean_tpr[0] = 0.0\n",
    "    roc_auc = auc(fpr, tpr)\n",
    "    plt.plot(fpr, tpr, lw=lw, color=color, label='ROC fold %d (area = %0.2f)' % (i, roc_auc))\n",
    "    i += 1\n",
    "plt.plot([0, 1], [0, 1], linestyle='--', lw=lw, color='k', label='Luck')\n",
    "mean_tpr /= kfold.get_n_splits(X, encoded_Y)\n",
    "mean_tpr[-1] = 1.0\n",
    "mean_auc = auc(mean_fpr, mean_tpr)\n",
    "plt.plot(mean_fpr, mean_tpr, color='g', linestyle='--',label='Mean ROC (area = %0.2f)' % mean_auc, lw=lw)\n",
    "plt.xlim([0, 1.0])\n",
    "plt.ylim([0, 1.0])\n",
    "plt.xlabel('False Positive Rate')\n",
    "plt.ylabel('True Positive Rate')\n",
    "plt.title('Receiver operating characteristic example')\n",
    "plt.legend(loc=\"lower right\")\n",
    "plt.show()"
   ]
  },
  {
   "cell_type": "code",
   "execution_count": 14,
   "metadata": {
    "collapsed": false
   },
   "outputs": [
    {
     "name": "stdout",
     "output_type": "stream",
     "text": [
      "      f_massjj  f_deltajj  isSignal     dense\n",
      "0  1300.426880   5.128572       1.0  0.982191\n",
      "1   437.221863   3.278692       1.0  0.815508\n",
      "3  1021.744080   5.989169       1.0  0.962240\n",
      "4  1101.381958   5.170628       1.0  0.968987\n",
      "7   498.717194   4.895020       1.0  0.846777\n"
     ]
    }
   ],
   "source": [
    "df_all['dense'] = model.predict(X) # add prediction to array\n",
    "print df_all.iloc[:5]"
   ]
  },
  {
   "cell_type": "markdown",
   "metadata": {},
   "source": [
    "# Plotting inputs weighted by prediction\n",
    "Let's see if we can shape the data distribution using the model weights and recover the ground truth"
   ]
  },
  {
   "cell_type": "code",
   "execution_count": 10,
   "metadata": {
    "collapsed": false
   },
   "outputs": [
    {
     "data": {
      "text/plain": [
       "<matplotlib.legend.Legend at 0x7f7259740890>"
      ]
     },
     "execution_count": 10,
     "metadata": {},
     "output_type": "execute_result"
    },
    {
     "data": {
      "image/png": "[encoded data removed]",
      "text/plain": [
       "<matplotlib.figure.Figure at 0x7f725b452510>"
      ]
     },
     "metadata": {},
     "output_type": "display_data"
    },
    {
     "data": {
      "image/png": "[encoded data removed]",
      "text/plain": [
       "<matplotlib.figure.Figure at 0x7f7259a95e50>"
      ]
     },
     "metadata": {},
     "output_type": "display_data"
    }
   ],
   "source": [
    "plt.figure()\n",
    "plt.xlabel(VARS[0])\n",
    "bins = np.linspace(0, 2000, 70)\n",
    "df_all[VARS[0]].plot.hist(bins, alpha=0.5, label='VV enhanced',normed=True,  weights = df_all['dense'])\n",
    "df_all[VARS[0]].plot.hist(bins, alpha=0.5, label='gg enhanced',normed=True,  weights = 1.-df_all['dense'])\n",
    "plt.legend(loc='upper right')\n",
    "plt.figure()\n",
    "plt.xlabel(VARS[1])\n",
    "bins = np.linspace(0, 10, 70)\n",
    "df_all[VARS[1]].plot.hist(bins, alpha=0.5, label='VV enhanced',normed=True,  weights = df_all['dense'])\n",
    "df_all[VARS[1]].plot.hist(bins, alpha=0.5, label='gg enhanced',normed=True,  weights = 1.-df_all['dense'])\n",
    "plt.legend(loc='upper right')"
   ]
  },
  {
   "cell_type": "code",
   "execution_count": null,
   "metadata": {
    "collapsed": true
   },
   "outputs": [],
   "source": []
  }
 ],
 "metadata": {
  "kernelspec": {
   "display_name": "Python 2",
   "language": "python",
   "name": "python2"
  },
  "language_info": {
   "codemirror_mode": {
    "name": "ipython",
    "version": 2
   },
   "file_extension": ".py",
   "mimetype": "text/x-python",
   "name": "python",
   "nbconvert_exporter": "python",
   "pygments_lexer": "ipython2",
   "version": "2.7.11"
  }
 },
 "nbformat": 4,
 "nbformat_minor": 0
}
